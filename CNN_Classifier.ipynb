{
 "cells": [
  {
   "cell_type": "code",
   "execution_count": 1,
   "metadata": {},
   "outputs": [
    {
     "name": "stderr",
     "output_type": "stream",
     "text": [
      "Using TensorFlow backend.\n"
     ]
    },
    {
     "name": "stdout",
     "output_type": "stream",
     "text": [
      "Found 1000 images belonging to 2 classes.\n",
      "Found 200 images belonging to 2 classes.\n"
     ]
    }
   ],
   "source": [
    "import numpy as np\n",
    "import os\n",
    "from keras.preprocessing.image import ImageDataGenerator\n",
    "\n",
    "np.random.seed(seed=42) #setting the seed so the random weights and biases our network chooses can be reporoduced\n",
    "\n",
    "cwd = os.getcwd()\n",
    "\n",
    "train_datagen = ImageDataGenerator(rescale=1./255)\n",
    "test_datagen = ImageDataGenerator()\n",
    "\n",
    "\n",
    "\n",
    "training_set = train_datagen.flow_from_directory(f'{cwd}/train', \n",
    "                                                 target_size=(64, 64), \n",
    "                                                 batch_size=32, \n",
    "                                                 class_mode='binary', \n",
    "                                                 seed=42)\n",
    "\n",
    "\n",
    "\n",
    "test_set = test_datagen.flow_from_directory(f'{cwd}/test',\n",
    "                                            target_size = (64, 64),\n",
    "                                            batch_size = 1,\n",
    "                                            class_mode = 'binary',\n",
    "                                           shuffle=False)"
   ]
  },
  {
   "cell_type": "code",
   "execution_count": 2,
   "metadata": {},
   "outputs": [],
   "source": [
    "from keras.models import Sequential\n",
    "from keras.layers import Conv2D\n",
    "from keras.layers import MaxPooling2D\n",
    "from keras.layers import Flatten\n",
    "from keras.layers import Dense\n",
    "from keras.layers import Dropout\n",
    "\n",
    "model = Sequential()"
   ]
  },
  {
   "cell_type": "code",
   "execution_count": 3,
   "metadata": {},
   "outputs": [],
   "source": [
    "model.add(Conv2D(32, (3, 3), input_shape = (64, 64, 3), activation = 'relu'))\n",
    "model.add(MaxPooling2D(pool_size = (2, 2)))\n",
    "model.add(Conv2D(64, (3, 3), activation = 'relu'))\n",
    "model.add(MaxPooling2D(pool_size = (2, 2)))\n",
    "model.add(Conv2D(128, (3, 3), activation = 'relu')) # change back to 128 and 3,3 from 512\n",
    "model.add(MaxPooling2D(pool_size = (2, 2)))\n",
    "model.add(Flatten())\n",
    "model.add(Dense(units = 64, activation = 'relu')) # this was 64\n",
    "model.add(Dropout(0.5))\n",
    "model.add(Dense(units = 1, activation = 'sigmoid'))"
   ]
  },
  {
   "cell_type": "code",
   "execution_count": 4,
   "metadata": {},
   "outputs": [],
   "source": [
    "model.compile(optimizer = 'adam', loss = 'binary_crossentropy', metrics = ['accuracy'])"
   ]
  },
  {
   "cell_type": "code",
   "execution_count": 5,
   "metadata": {
    "scrolled": true
   },
   "outputs": [
    {
     "name": "stdout",
     "output_type": "stream",
     "text": [
      "Epoch 1/35\n",
      "32/32 [==============================] - 23s 715ms/step - loss: 0.6548 - accuracy: 0.6180 - val_loss: 0.0000e+00 - val_accuracy: 0.6900\n",
      "Epoch 2/35\n",
      "32/32 [==============================] - 18s 560ms/step - loss: 0.5951 - accuracy: 0.6980 - val_loss: 0.0000e+00 - val_accuracy: 0.7350\n",
      "Epoch 3/35\n",
      "32/32 [==============================] - 16s 514ms/step - loss: 0.5033 - accuracy: 0.7470 - val_loss: 0.0000e+00 - val_accuracy: 0.7600\n",
      "Epoch 4/35\n",
      "32/32 [==============================] - 17s 535ms/step - loss: 0.4734 - accuracy: 0.7810 - val_loss: 0.0000e+00 - val_accuracy: 0.8200\n",
      "Epoch 5/35\n",
      "32/32 [==============================] - 18s 574ms/step - loss: 0.4368 - accuracy: 0.8070 - val_loss: 0.0000e+00 - val_accuracy: 0.7950\n",
      "Epoch 6/35\n",
      "32/32 [==============================] - 18s 557ms/step - loss: 0.4211 - accuracy: 0.8140 - val_loss: 0.0000e+00 - val_accuracy: 0.8000\n",
      "Epoch 7/35\n",
      "32/32 [==============================] - 18s 556ms/step - loss: 0.3483 - accuracy: 0.8480 - val_loss: 0.0000e+00 - val_accuracy: 0.8350\n",
      "Epoch 8/35\n",
      "32/32 [==============================] - 17s 543ms/step - loss: 0.3243 - accuracy: 0.8620 - val_loss: 0.0000e+00 - val_accuracy: 0.8400\n",
      "Epoch 9/35\n",
      "32/32 [==============================] - 17s 538ms/step - loss: 0.2825 - accuracy: 0.8910 - val_loss: 0.0000e+00 - val_accuracy: 0.8100\n",
      "Epoch 10/35\n",
      "32/32 [==============================] - 18s 547ms/step - loss: 0.2302 - accuracy: 0.9090 - val_loss: 0.0000e+00 - val_accuracy: 0.8400\n",
      "Epoch 11/35\n",
      "32/32 [==============================] - 17s 530ms/step - loss: 0.2016 - accuracy: 0.9200 - val_loss: 0.0000e+00 - val_accuracy: 0.8300\n",
      "Epoch 12/35\n",
      "32/32 [==============================] - 18s 569ms/step - loss: 0.1784 - accuracy: 0.9310 - val_loss: 0.0000e+00 - val_accuracy: 0.8300\n",
      "Epoch 13/35\n",
      "32/32 [==============================] - 17s 525ms/step - loss: 0.1517 - accuracy: 0.9420 - val_loss: 0.0000e+00 - val_accuracy: 0.8600\n",
      "Epoch 14/35\n",
      "32/32 [==============================] - 17s 543ms/step - loss: 0.1136 - accuracy: 0.9570 - val_loss: 0.0000e+00 - val_accuracy: 0.8500\n",
      "Epoch 15/35\n",
      "32/32 [==============================] - 18s 564ms/step - loss: 0.1035 - accuracy: 0.9600 - val_loss: 0.0000e+00 - val_accuracy: 0.8800\n",
      "Epoch 16/35\n",
      "32/32 [==============================] - 19s 600ms/step - loss: 0.0971 - accuracy: 0.9660 - val_loss: 0.0000e+00 - val_accuracy: 0.8800\n",
      "Epoch 17/35\n",
      "32/32 [==============================] - 18s 553ms/step - loss: 0.1204 - accuracy: 0.9520 - val_loss: 0.0000e+00 - val_accuracy: 0.8700\n",
      "Epoch 18/35\n",
      "32/32 [==============================] - 18s 573ms/step - loss: 0.0704 - accuracy: 0.9790 - val_loss: 442.9767 - val_accuracy: 0.7950\n",
      "Epoch 19/35\n",
      "32/32 [==============================] - 18s 548ms/step - loss: 0.0757 - accuracy: 0.9700 - val_loss: 0.0000e+00 - val_accuracy: 0.8700\n",
      "Epoch 20/35\n",
      "32/32 [==============================] - 18s 552ms/step - loss: 0.0881 - accuracy: 0.9730 - val_loss: 0.0000e+00 - val_accuracy: 0.8900\n",
      "Epoch 21/35\n",
      "32/32 [==============================] - 18s 549ms/step - loss: 0.0789 - accuracy: 0.9760 - val_loss: 0.0000e+00 - val_accuracy: 0.8700\n",
      "Epoch 22/35\n",
      "32/32 [==============================] - 18s 564ms/step - loss: 0.0363 - accuracy: 0.9920 - val_loss: 0.0000e+00 - val_accuracy: 0.8750\n",
      "Epoch 23/35\n",
      "32/32 [==============================] - 18s 547ms/step - loss: 0.0242 - accuracy: 0.9940 - val_loss: 0.0000e+00 - val_accuracy: 0.8800\n",
      "Epoch 24/35\n",
      "32/32 [==============================] - 18s 549ms/step - loss: 0.0212 - accuracy: 0.9950 - val_loss: 0.0000e+00 - val_accuracy: 0.8800\n",
      "Epoch 25/35\n",
      "32/32 [==============================] - 18s 557ms/step - loss: 0.0257 - accuracy: 0.9900 - val_loss: 0.0000e+00 - val_accuracy: 0.8800\n",
      "Epoch 26/35\n",
      "32/32 [==============================] - 17s 524ms/step - loss: 0.0126 - accuracy: 0.9970 - val_loss: 0.0000e+00 - val_accuracy: 0.8900\n",
      "Epoch 27/35\n",
      "32/32 [==============================] - 17s 522ms/step - loss: 0.0224 - accuracy: 0.9930 - val_loss: 447.5026 - val_accuracy: 0.8700\n",
      "Epoch 28/35\n",
      "32/32 [==============================] - 17s 542ms/step - loss: 0.0140 - accuracy: 0.9970 - val_loss: 0.0000e+00 - val_accuracy: 0.8850\n",
      "Epoch 29/35\n",
      "32/32 [==============================] - 18s 577ms/step - loss: 0.0164 - accuracy: 0.9950 - val_loss: 99.1839 - val_accuracy: 0.9000\n",
      "Epoch 30/35\n",
      "32/32 [==============================] - 21s 668ms/step - loss: 0.0101 - accuracy: 0.9980 - val_loss: 0.0000e+00 - val_accuracy: 0.9000\n",
      "Epoch 31/35\n",
      "32/32 [==============================] - 16s 515ms/step - loss: 0.0113 - accuracy: 0.9960 - val_loss: 0.0000e+00 - val_accuracy: 0.8800\n",
      "Epoch 32/35\n",
      "32/32 [==============================] - 12s 385ms/step - loss: 0.0081 - accuracy: 0.9970 - val_loss: 0.0000e+00 - val_accuracy: 0.8800\n",
      "Epoch 33/35\n",
      "32/32 [==============================] - 12s 382ms/step - loss: 0.0081 - accuracy: 0.9990 - val_loss: 6.4380e-38 - val_accuracy: 0.8800\n",
      "Epoch 34/35\n",
      "32/32 [==============================] - 12s 368ms/step - loss: 0.0406 - accuracy: 0.9860 - val_loss: 0.0000e+00 - val_accuracy: 0.8500\n",
      "Epoch 35/35\n",
      "32/32 [==============================] - 12s 363ms/step - loss: 0.0405 - accuracy: 0.9880 - val_loss: 0.0000e+00 - val_accuracy: 0.8800\n"
     ]
    },
    {
     "data": {
      "text/plain": [
       "<keras.callbacks.callbacks.History at 0x1380bab50>"
      ]
     },
     "execution_count": 5,
     "metadata": {},
     "output_type": "execute_result"
    }
   ],
   "source": [
    "model.fit_generator(training_set,epochs = 35, validation_data = test_set)"
   ]
  },
  {
   "cell_type": "code",
   "execution_count": null,
   "metadata": {},
   "outputs": [],
   "source": [
    "actual = []\n",
    "predictions = []\n",
    "\n",
    "# get actual values\n",
    "for i in range(len(test_set)):\n",
    "    actual.append(test_set[i][1][0]) #0 = Laurence Fishburne and 1=Samuel L Jackson\n",
    "    \n",
    "# get predicted values\n",
    "for i in model.predict_generator(test_set):\n",
    "    predictions.append(i[0])    "
   ]
  },
  {
   "cell_type": "code",
   "execution_count": null,
   "metadata": {},
   "outputs": [],
   "source": [
    "# create a dataframe of both predicted and actual values\n",
    "import pandas as pd\n",
    "data = {'actual':actual, 'predictions':predictions} \n",
    "df = pd.DataFrame(data)\n",
    "df['predictions'] = df['predictions'].apply(lambda prediction: 1 if prediction >= 0.5 else 0)\n",
    "df.head()"
   ]
  },
  {
   "cell_type": "code",
   "execution_count": null,
   "metadata": {},
   "outputs": [],
   "source": [
    "wrong = df[df['actual'] != df['predictions']]\n",
    "print(f'Number of wrong predictions: {len(wrong)}')\n",
    "wrong"
   ]
  },
  {
   "cell_type": "code",
   "execution_count": null,
   "metadata": {},
   "outputs": [],
   "source": [
    "import matplotlib.pyplot as plt\n",
    "\n",
    "for i in wrong.index:\n",
    "    plt.imshow(np.uint8(test_set[i][0][0])) # change first number to change image\n",
    "    plt.show()"
   ]
  },
  {
   "cell_type": "code",
   "execution_count": null,
   "metadata": {},
   "outputs": [],
   "source": []
  }
 ],
 "metadata": {
  "kernelspec": {
   "display_name": "Python 3",
   "language": "python",
   "name": "python3"
  },
  "language_info": {
   "codemirror_mode": {
    "name": "ipython",
    "version": 3
   },
   "file_extension": ".py",
   "mimetype": "text/x-python",
   "name": "python",
   "nbconvert_exporter": "python",
   "pygments_lexer": "ipython3",
   "version": "3.7.4"
  }
 },
 "nbformat": 4,
 "nbformat_minor": 2
}
